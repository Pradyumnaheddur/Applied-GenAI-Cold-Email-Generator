{
 "cells": [
  {
   "cell_type": "markdown",
   "id": "6bbee98a",
   "metadata": {},
   "source": [
    "## Groq Llama Model Invocation"
   ]
  },
  {
   "cell_type": "code",
   "execution_count": 1,
   "id": "3f6407fc",
   "metadata": {
    "ExecuteTime": {
     "end_time": "2024-09-13T11:22:59.730506Z",
     "start_time": "2024-09-13T11:22:57.839212Z"
    }
   },
   "outputs": [
    {
     "name": "stdout",
     "output_type": "stream",
     "text": [
      "The second President of India was Sarvepalli Radhakrishnan.\n"
     ]
    }
   ],
   "source": [
    "from langchain_groq import ChatGroq\n",
    "\n",
    "llm = ChatGroq(\n",
    "    temperature=0,\n",
    "    groq_api_key=\"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\",\n",
    "    model=\"llama-3.1-70b-versatile\"\n",
    "\n",
    ")\n",
    "response = llm.invoke(\"who is the second president of india\")\n",
    "print(response.content)"
   ]
  },
  {
   "cell_type": "markdown",
   "id": "83af49cb",
   "metadata": {},
   "source": [
    "## Web Scraping using WebBaseLoader"
   ]
  },
  {
   "cell_type": "code",
   "execution_count": 2,
   "id": "b613f399",
   "metadata": {
    "ExecuteTime": {
     "end_time": "2024-09-13T11:23:00.680304Z",
     "start_time": "2024-09-13T11:22:59.733595Z"
    },
    "scrolled": true
   },
   "outputs": [
    {
     "name": "stderr",
     "output_type": "stream",
     "text": [
      "USER_AGENT environment variable not set, consider setting it to identify your requests.\n"
     ]
    },
    {
     "name": "stdout",
     "output_type": "stream",
     "text": [
      "\n",
      "\n",
      "\n",
      "\n",
      "\n",
      "\n",
      "\n",
      "\n",
      "\n",
      "\n",
      "\n",
      "\n",
      "\n",
      "\n",
      "\n",
      "\n",
      "\n",
      "\n",
      "\n",
      "\n",
      "sevDesk GmbH - Data Scientist (m/f/x)\n",
      "\n",
      "\n",
      "\n",
      "\n",
      "Zum Inhalt springensevDesk GmbHStartseiteKarriereseitesevDesk GmbHStartseiteKarriereseitesevDesk GmbHStartseiteKarriereseitesevDesk GmbHStartseiteData Scientist (m/f/x)Standort flexibelDeutschlandDataJobdetailsBewerbenDeine Rolle bei unsWe at sevdesk:\n",
      "As an intuitive cloud accounting software, we empower founders, self-employed individuals, and small business owners to focus on what truly matters. Our product offers them a smart accounting tool to save time in their daily activities. As a company, we aim for excellence, continuously expand our horizons, and strive for daily improvement of our product and our daily work life. In pursuit of these goals, we rely on our strong culture, innovative spirit, and unwavering passion. In the future, we hope to count you among our dedicated team members.Your Mission:As a Data Scientist in our Data Team, you simplify accounting processes for our customers by designing and implementing practical machine learning solutions that address real-world problems and deliver significant value for our users and our company. You collaborate with Product and ML engineering to seamlessly integrate your models into production systems.Here's how you'll make an impact:\n",
      "You ensure scalability, reliability and maintainability of ML solutions by following best practices.You combine and clean data, perform complex analyses, and apply modern ML and deep learning algorithms to identify data patterns.You develop a proof-of-concepts with product teams and business units to demonstrate the added value of your solutions.You translate domain-specific problems into mathematical and technical requirements and explain complex relationships simply.You enjoy to mentor and guide junior team members, fostering a culture of continuous learning and improvement.\n",
      "Your Qualification:\n",
      "You hold a degree in mathematics, a technical field or a related discipline, with 3-5 years of relevant professional experience as a Data Scientist.You have profound knowledge in machine learning/deep learning, statistical analysis and in developing business cases for data science products.You are proficient in SQL/NoSQL, Python and common ML libraries (e.g., scikit-learn, pandas, numpy, PyTorch).You understand typical challenges in developing and providing Data Science products and the pros and cons of various ML/DL algorithms.You are confident with software development best practices, container technologies (such as Docker) and cloud platforms.You write clean, modular, and testable code, moving beyond Jupyter notebooks to production-quality solutions.\n",
      "\n",
      "Our Tech Stack\n",
      "AWS | Python | Dagster | Terraform | Dbt | Snowflake | Github | Containers | Traditional ML & GenAI models\n",
      "\n",
      "* Experience with these tools is a plus, but we value your ability to design and implement systems with similar tools and discuss design trade-offs in each product category, possibly suggesting improvements to our stack.Das bieten wir dirYour sevdesk Experience\n",
      "\n",
      "Your Freedom: Embrace the freedom to work from wherever you choose.\n",
      "Your Flexibility: Define your working hours to maximize productivity while being an essential team member.Your Projects: Participate in Open Code Fridays and bring your own ideas to life.Your Ideas: Actively contribute your innovative ideas to shape sevdesk's future.\n",
      "Your Training: Engage in flat and brown bag sessions, celebrating knowledge sharing.\n",
      "Your Career: We support and challenge you on your unique career journey.\n",
      "Your Team: Collaborate seamlessly with our inclusive team, whether in-person or through online channels.Your Equipment: Select your preferred hardware, and if needed, we provide you with a desk and chair.\n",
      "Your Perks: Enjoy a monthly voucher, such as for shopping or refilling your tank.Your Share: Join our employee share ownership program and become an entrepreneur yourself.\n",
      "Your Dream Bike: Pursue your ideal bike through our bike leasing program.\n",
      "Your Dress Code: Express yourself in a blazer or sweatpants; our focus is on inspiration, not attire.Your Retirement Plan: We contribute to your company pension plan and add €30 to it.Your Benefits: Access discounts at over 600 partner companies via our corporate benefits.Your Commute: We cover travel costs for your visits to our Offenburg office if you work remotely.Your Commitment: Dedicate 3 working days annually to contribute to social or environmental projects.Your Relaxation: Enjoy 30 vacation days each year for your well-deserved rest.Your Wanderlust: Whether it's the mountains or the sea - enjoy 30 days of workation wherever you go in Europe.\n",
      "\n",
      "For more insights, visit us on Instagram\n",
      "Contact:   Marc Riehle\n",
      "#LI-HYBRID\n",
      "DetailsStandort flexibelDeutschlandDataBewerbenoderApply with Indeed nicht verfügbarCookies aktualisierenJob teilenMeine DatenBitte gib deine Kontaktdaten anVor- und Nachname *E-Mail-Adresse *Telefonnummer *DeutschlandDeutschlandInternationalAfghanistanAfghanistanLebenslauf *Lebenslauf hochladenDatei hochladen oder Datei hier hinziehenAkzeptierte Dateien: PDF, DOC, DOCX, JPEG und PNG bis zu 50 MB.AnschreibenLaden Sie Ihr Anschreiben hochDatei hochladen oder Datei hier hinziehenAkzeptierte Dateien: PDF, DOC, DOCX, JPEG und PNG bis zu 50 MB.Stattdessen hier schreibenFragenFast fertig! Wir haben ein paar weitere Fragen für dich.Kündigungsfrist (oder frühestmögliches Startdatum) *Gehaltsvorstellung *Geworben durch folgende*n Mitarbeiter*inWie bist du auf uns aufmerksam geworden?indeedLinkedinStepStoneXingAndere JobplattformMesse/VeranstaltungFreundeInstagram/FacebookYouTubeWebsite von SevDesksonstigesDurch das Abschicken meiner Unterlagen für den Rrecruitingprozess erkläre ich mich damit einverstanden, dass meine Daten zum Zweck des Recruitingprozesses verarbeitet und nach Abschluss des Recruitingprozesses für weitere 6 Monate gespeichert werden. Ohne dein Einverständnis können wir deine Unterlagen für den Rrecruitingprozess leider nicht berücksichtigen. Du kannst dein Einverständnis jederzeit widerrufen. Weitere Informationen, wie wir deine Daten verarbeiten findest du in unserer Datenschutzerklärung unter folgendem Link: www.sevdesk.de/datenschutz unter \"Rrecruitingprozess\". \n",
      " *JaGerne bewahren wir deine Unterlagen auch nach Abschluss des Recruitingprozesses über die 6 Monate Speicherdauer hinaus auf, um bei weiteren Ausschreibungen, die zu deinem Profil passen auf dich zurückkommen zu können. Bitte gib an, ob du dies wünschst. Du kannst dein Einverständnis jederzeit widerrufen. Weitere Informationen, wie wir deine Daten verarbeiten findest du in unserer Datenschutzerklärung unter folgendem Link: www.sevdesk.de/datenschutz unter \"Recruitingprozess\". *JaNeinAlle mit * gekennzeichneten Felder sind Pflichtfelder.SendenAlles erledigt!Ihre Bewerbung wurde eingesendet!Anderer Job Du hast eine Frage zur Stelle, zum Prozess, zu unserer Kultur oder möchtest uns einfach näher kennenlernen?\n",
      "Dann schreib uns ganz unkompliziert auf WhatsApp oder Signal unter der +49 163 3725450.\n",
      "\n",
      "Bitte beachte, dass die angegebene Nummer keine Anrufe entgegen nehmen kann, sondern lediglich zur schriftlichen Kommunikation dient.Unsere KulturBei sevDesk schaffen wir den Raum zur Selbstorganisation vor allem durch ein entsprechendes Führungs-Mindset. Dieses baut auf Vertrauen, Entscheidungsfreiheit, Transparenz und Klarheit auf. Das gilt für unsere Kolleg:innen und alle, die es noch werden wollen - mit unserem sevDesk Führungsversprechen.StartseiteKarriereseite\n",
      "\n",
      "\n",
      "\n",
      "\n",
      "\n",
      "\n",
      "\n"
     ]
    }
   ],
   "source": [
    "from langchain_community.document_loaders import WebBaseLoader\n",
    "\n",
    "loader = WebBaseLoader(\"https://sevdesk.recruitee.com/o/data-scientist-mfx\")\n",
    "page_data = loader.load().pop().page_content\n",
    "print(page_data)"
   ]
  },
  {
   "cell_type": "markdown",
   "id": "d46daa21",
   "metadata": {},
   "source": [
    "## Job Posting Extraction by Prompting Llama"
   ]
  },
  {
   "cell_type": "code",
   "execution_count": 3,
   "id": "816e8e73",
   "metadata": {
    "ExecuteTime": {
     "end_time": "2024-09-13T11:23:02.479193Z",
     "start_time": "2024-09-13T11:23:00.683288Z"
    }
   },
   "outputs": [
    {
     "name": "stdout",
     "output_type": "stream",
     "text": [
      "{\n",
      "    \"role\": \"Data Scientist (m/f/x)\",\n",
      "    \"experience\": \"3-5 years of relevant professional experience as a Data Scientist\",\n",
      "    \"skills\": [\n",
      "        \"Machine learning/deep learning\",\n",
      "        \"Statistical analysis\",\n",
      "        \"SQL/NoSQL\",\n",
      "        \"Python\",\n",
      "        \"Common ML libraries (e.g., scikit-learn, pandas, numpy, PyTorch)\",\n",
      "        \"Container technologies (such as Docker)\",\n",
      "        \"Cloud platforms\"\n",
      "    ],\n",
      "    \"description\": \"As a Data Scientist in our Data Team, you simplify accounting processes for our customers by designing and implementing practical machine learning solutions that address real-world problems and deliver significant value for our users and our company. You collaborate with Product and ML engineering to seamlessly integrate your models into production systems.\"\n",
      "}\n",
      "<class 'str'>\n"
     ]
    }
   ],
   "source": [
    "from langchain_core.prompts import PromptTemplate\n",
    "\n",
    "prompt_extract = PromptTemplate.from_template(\n",
    "        \"\"\"\n",
    "        ### SCRAPED TEXT FROM WEBSITE:\n",
    "        {page_data}\n",
    "        ### INSTRUCTION:\n",
    "        The scraped text is from the career's page of a website.\n",
    "        Your job is to extract the job postings and return them in JSON format containing the \n",
    "        following keys: `role`, `experience`, `skills` and `description`.\n",
    "        Only return the valid JSON as string of dictonary.\n",
    "        ### VALID JSON (NO PREAMBLE):    \n",
    "        \"\"\"\n",
    ")\n",
    "\n",
    "chain_extract = prompt_extract | llm \n",
    "res = chain_extract.invoke(input={'page_data':page_data})\n",
    "print(res.content)\n",
    "print(type(res.content))"
   ]
  },
  {
   "cell_type": "markdown",
   "id": "355b3d3f",
   "metadata": {},
   "source": [
    "## JASON Parsing"
   ]
  },
  {
   "cell_type": "code",
   "execution_count": 4,
   "id": "5d613403",
   "metadata": {
    "ExecuteTime": {
     "end_time": "2024-09-13T11:23:02.494072Z",
     "start_time": "2024-09-13T11:23:02.482378Z"
    }
   },
   "outputs": [
    {
     "name": "stdout",
     "output_type": "stream",
     "text": [
      "{'role': 'Data Scientist (m/f/x)', 'experience': '3-5 years of relevant professional experience as a Data Scientist', 'skills': ['Machine learning/deep learning', 'Statistical analysis', 'SQL/NoSQL', 'Python', 'Common ML libraries (e.g., scikit-learn, pandas, numpy, PyTorch)', 'Container technologies (such as Docker)', 'Cloud platforms'], 'description': 'As a Data Scientist in our Data Team, you simplify accounting processes for our customers by designing and implementing practical machine learning solutions that address real-world problems and deliver significant value for our users and our company. You collaborate with Product and ML engineering to seamlessly integrate your models into production systems.'}\n",
      "<class 'dict'>\n"
     ]
    }
   ],
   "source": [
    "from langchain_core.output_parsers import JsonOutputParser\n",
    "\n",
    "parser = JsonOutputParser()\n",
    "jparse = parser.parse(res.content)\n",
    "print(jparse)\n",
    "print(type(jparse))\n"
   ]
  },
  {
   "cell_type": "markdown",
   "id": "646e195b",
   "metadata": {
    "ExecuteTime": {
     "end_time": "2024-09-13T11:05:05.371144Z",
     "start_time": "2024-09-13T11:05:05.364568Z"
    }
   },
   "source": [
    "## Loading Techstack and Links"
   ]
  },
  {
   "cell_type": "code",
   "execution_count": 5,
   "id": "23d964b3",
   "metadata": {
    "ExecuteTime": {
     "end_time": "2024-09-13T11:23:03.545266Z",
     "start_time": "2024-09-13T11:23:02.495982Z"
    }
   },
   "outputs": [
    {
     "data": {
      "text/html": [
       "<div>\n",
       "<style scoped>\n",
       "    .dataframe tbody tr th:only-of-type {\n",
       "        vertical-align: middle;\n",
       "    }\n",
       "\n",
       "    .dataframe tbody tr th {\n",
       "        vertical-align: top;\n",
       "    }\n",
       "\n",
       "    .dataframe thead th {\n",
       "        text-align: right;\n",
       "    }\n",
       "</style>\n",
       "<table border=\"1\" class=\"dataframe\">\n",
       "  <thead>\n",
       "    <tr style=\"text-align: right;\">\n",
       "      <th></th>\n",
       "      <th>Techstack</th>\n",
       "      <th>Links</th>\n",
       "    </tr>\n",
       "  </thead>\n",
       "  <tbody>\n",
       "    <tr>\n",
       "      <th>0</th>\n",
       "      <td>React, Node.js, MongoDB</td>\n",
       "      <td>https://example.com/react-portfolio</td>\n",
       "    </tr>\n",
       "    <tr>\n",
       "      <th>1</th>\n",
       "      <td>Angular,.NET, SQL Server</td>\n",
       "      <td>https://example.com/angular-portfolio</td>\n",
       "    </tr>\n",
       "    <tr>\n",
       "      <th>2</th>\n",
       "      <td>Vue.js, Ruby on Rails, PostgreSQL</td>\n",
       "      <td>https://example.com/vue-portfolio</td>\n",
       "    </tr>\n",
       "    <tr>\n",
       "      <th>3</th>\n",
       "      <td>Python, Django, MySQL</td>\n",
       "      <td>https://example.com/python-portfolio</td>\n",
       "    </tr>\n",
       "    <tr>\n",
       "      <th>4</th>\n",
       "      <td>Java, Spring Boot, Oracle</td>\n",
       "      <td>https://example.com/java-portfolio</td>\n",
       "    </tr>\n",
       "    <tr>\n",
       "      <th>5</th>\n",
       "      <td>Flutter, Firebase, GraphQL</td>\n",
       "      <td>https://example.com/flutter-portfolio</td>\n",
       "    </tr>\n",
       "    <tr>\n",
       "      <th>6</th>\n",
       "      <td>WordPress, PHP, MySQL</td>\n",
       "      <td>https://example.com/wordpress-portfolio</td>\n",
       "    </tr>\n",
       "    <tr>\n",
       "      <th>7</th>\n",
       "      <td>Magento, PHP, MySQL</td>\n",
       "      <td>https://example.com/magento-portfolio</td>\n",
       "    </tr>\n",
       "    <tr>\n",
       "      <th>8</th>\n",
       "      <td>React Native, Node.js, MongoDB</td>\n",
       "      <td>https://example.com/react-native-portfolio</td>\n",
       "    </tr>\n",
       "    <tr>\n",
       "      <th>9</th>\n",
       "      <td>iOS, Swift, Core Data</td>\n",
       "      <td>https://example.com/ios-portfolio</td>\n",
       "    </tr>\n",
       "    <tr>\n",
       "      <th>10</th>\n",
       "      <td>Android, Java, Room Persistence</td>\n",
       "      <td>https://example.com/android-portfolio</td>\n",
       "    </tr>\n",
       "    <tr>\n",
       "      <th>11</th>\n",
       "      <td>Kotlin, Android, Firebase</td>\n",
       "      <td>https://example.com/kotlin-android-portfolio</td>\n",
       "    </tr>\n",
       "    <tr>\n",
       "      <th>12</th>\n",
       "      <td>Android TV, Kotlin, Android NDK</td>\n",
       "      <td>https://example.com/android-tv-portfolio</td>\n",
       "    </tr>\n",
       "    <tr>\n",
       "      <th>13</th>\n",
       "      <td>iOS, Swift, ARKit</td>\n",
       "      <td>https://example.com/ios-ar-portfolio</td>\n",
       "    </tr>\n",
       "    <tr>\n",
       "      <th>14</th>\n",
       "      <td>Cross-platform, Xamarin, Azure</td>\n",
       "      <td>https://example.com/xamarin-portfolio</td>\n",
       "    </tr>\n",
       "    <tr>\n",
       "      <th>15</th>\n",
       "      <td>Backend, Kotlin, Spring Boot</td>\n",
       "      <td>https://example.com/kotlin-backend-portfolio</td>\n",
       "    </tr>\n",
       "    <tr>\n",
       "      <th>16</th>\n",
       "      <td>Frontend, TypeScript, Angular</td>\n",
       "      <td>https://example.com/typescript-frontend-portfolio</td>\n",
       "    </tr>\n",
       "    <tr>\n",
       "      <th>17</th>\n",
       "      <td>Full-stack, JavaScript, Express.js</td>\n",
       "      <td>https://example.com/full-stack-js-portfolio</td>\n",
       "    </tr>\n",
       "    <tr>\n",
       "      <th>18</th>\n",
       "      <td>Machine Learning, Python, TensorFlow</td>\n",
       "      <td>https://example.com/ml-python-portfolio</td>\n",
       "    </tr>\n",
       "    <tr>\n",
       "      <th>19</th>\n",
       "      <td>DevOps, Jenkins, Docker</td>\n",
       "      <td>https://example.com/devops-portfolio</td>\n",
       "    </tr>\n",
       "  </tbody>\n",
       "</table>\n",
       "</div>"
      ],
      "text/plain": [
       "                               Techstack  \\\n",
       "0                React, Node.js, MongoDB   \n",
       "1               Angular,.NET, SQL Server   \n",
       "2      Vue.js, Ruby on Rails, PostgreSQL   \n",
       "3                  Python, Django, MySQL   \n",
       "4              Java, Spring Boot, Oracle   \n",
       "5             Flutter, Firebase, GraphQL   \n",
       "6                  WordPress, PHP, MySQL   \n",
       "7                    Magento, PHP, MySQL   \n",
       "8         React Native, Node.js, MongoDB   \n",
       "9                  iOS, Swift, Core Data   \n",
       "10       Android, Java, Room Persistence   \n",
       "11             Kotlin, Android, Firebase   \n",
       "12       Android TV, Kotlin, Android NDK   \n",
       "13                     iOS, Swift, ARKit   \n",
       "14        Cross-platform, Xamarin, Azure   \n",
       "15          Backend, Kotlin, Spring Boot   \n",
       "16         Frontend, TypeScript, Angular   \n",
       "17    Full-stack, JavaScript, Express.js   \n",
       "18  Machine Learning, Python, TensorFlow   \n",
       "19               DevOps, Jenkins, Docker   \n",
       "\n",
       "                                                Links  \n",
       "0                 https://example.com/react-portfolio  \n",
       "1               https://example.com/angular-portfolio  \n",
       "2                   https://example.com/vue-portfolio  \n",
       "3                https://example.com/python-portfolio  \n",
       "4                  https://example.com/java-portfolio  \n",
       "5               https://example.com/flutter-portfolio  \n",
       "6             https://example.com/wordpress-portfolio  \n",
       "7               https://example.com/magento-portfolio  \n",
       "8          https://example.com/react-native-portfolio  \n",
       "9                   https://example.com/ios-portfolio  \n",
       "10              https://example.com/android-portfolio  \n",
       "11       https://example.com/kotlin-android-portfolio  \n",
       "12           https://example.com/android-tv-portfolio  \n",
       "13               https://example.com/ios-ar-portfolio  \n",
       "14              https://example.com/xamarin-portfolio  \n",
       "15       https://example.com/kotlin-backend-portfolio  \n",
       "16  https://example.com/typescript-frontend-portfolio  \n",
       "17        https://example.com/full-stack-js-portfolio  \n",
       "18            https://example.com/ml-python-portfolio  \n",
       "19               https://example.com/devops-portfolio  "
      ]
     },
     "execution_count": 5,
     "metadata": {},
     "output_type": "execute_result"
    }
   ],
   "source": [
    "import pandas as pd\n",
    "\n",
    "df = pd.read_csv(\"my_portfolio.csv\")\n",
    "df\n"
   ]
  },
  {
   "cell_type": "markdown",
   "id": "f371d03c",
   "metadata": {},
   "source": [
    "## Chromadb "
   ]
  },
  {
   "cell_type": "code",
   "execution_count": 6,
   "id": "b39288cd",
   "metadata": {
    "ExecuteTime": {
     "end_time": "2024-09-13T11:23:04.541601Z",
     "start_time": "2024-09-13T11:23:03.549268Z"
    }
   },
   "outputs": [],
   "source": [
    "import uuid\n",
    "import chromadb\n",
    "\n",
    "client = chromadb.PersistentClient('Vectorstore')\n",
    "collection = client.get_or_create_collection(name = \"portfolio\")\n",
    "\n",
    "if not collection.count():\n",
    "    for _, row in df.iterrows():\n",
    "        collection.add(documents=row[\"Techstack\"],\n",
    "                      metadatas={\"links\": row[\"Links\"]},\n",
    "                      ids=[str(uuid.uuid4())])"
   ]
  },
  {
   "cell_type": "markdown",
   "id": "0860aa91",
   "metadata": {},
   "source": [
    "## Example to see how chromadb works"
   ]
  },
  {
   "cell_type": "code",
   "execution_count": 7,
   "id": "0e9d629a",
   "metadata": {
    "ExecuteTime": {
     "end_time": "2024-09-13T11:23:04.891167Z",
     "start_time": "2024-09-13T11:23:04.542600Z"
    }
   },
   "outputs": [
    {
     "data": {
      "text/plain": [
       "[[{'links': 'https://example.com/ios-ar-portfolio'},\n",
       "  {'links': 'https://example.com/ios-portfolio'}]]"
      ]
     },
     "execution_count": 7,
     "metadata": {},
     "output_type": "execute_result"
    }
   ],
   "source": [
    "links = collection.query(query_texts=[\"Experience about ios\"], n_results=2).get('metadatas',[])\n",
    "links"
   ]
  },
  {
   "cell_type": "code",
   "execution_count": 8,
   "id": "52572c09",
   "metadata": {
    "ExecuteTime": {
     "end_time": "2024-09-13T11:23:04.906553Z",
     "start_time": "2024-09-13T11:23:04.894282Z"
    }
   },
   "outputs": [
    {
     "data": {
      "text/plain": [
       "['Machine learning/deep learning',\n",
       " 'Statistical analysis',\n",
       " 'SQL/NoSQL',\n",
       " 'Python',\n",
       " 'Common ML libraries (e.g., scikit-learn, pandas, numpy, PyTorch)',\n",
       " 'Container technologies (such as Docker)',\n",
       " 'Cloud platforms']"
      ]
     },
     "execution_count": 8,
     "metadata": {},
     "output_type": "execute_result"
    }
   ],
   "source": [
    "job = jparse\n",
    "job['skills']"
   ]
  },
  {
   "cell_type": "code",
   "execution_count": 9,
   "id": "69f01814",
   "metadata": {
    "ExecuteTime": {
     "end_time": "2024-09-13T11:23:05.590265Z",
     "start_time": "2024-09-13T11:23:04.954552Z"
    }
   },
   "outputs": [
    {
     "data": {
      "text/plain": [
       "[[{'links': 'https://example.com/ml-python-portfolio'},\n",
       "  {'links': 'https://example.com/python-portfolio'}],\n",
       " [{'links': 'https://example.com/ml-python-portfolio'},\n",
       "  {'links': 'https://example.com/magento-portfolio'}],\n",
       " [{'links': 'https://example.com/magento-portfolio'},\n",
       "  {'links': 'https://example.com/angular-portfolio'}],\n",
       " [{'links': 'https://example.com/ml-python-portfolio'},\n",
       "  {'links': 'https://example.com/python-portfolio'}],\n",
       " [{'links': 'https://example.com/ml-python-portfolio'},\n",
       "  {'links': 'https://example.com/python-portfolio'}],\n",
       " [{'links': 'https://example.com/devops-portfolio'},\n",
       "  {'links': 'https://example.com/xamarin-portfolio'}],\n",
       " [{'links': 'https://example.com/xamarin-portfolio'},\n",
       "  {'links': 'https://example.com/devops-portfolio'}]]"
      ]
     },
     "execution_count": 9,
     "metadata": {},
     "output_type": "execute_result"
    }
   ],
   "source": [
    "links = collection.query(query_texts=job['skills'], n_results=2).get('metadatas',[])\n",
    "links"
   ]
  },
  {
   "cell_type": "markdown",
   "id": "6effb9b9",
   "metadata": {},
   "source": [
    "## Prompting Llama to write cold email"
   ]
  },
  {
   "cell_type": "code",
   "execution_count": 10,
   "id": "e9d3a0a1",
   "metadata": {
    "ExecuteTime": {
     "end_time": "2024-09-13T11:23:07.276533Z",
     "start_time": "2024-09-13T11:23:05.594098Z"
    }
   },
   "outputs": [
    {
     "name": "stdout",
     "output_type": "stream",
     "text": [
      "Subject: Expert Data Science Solutions for Seamless Integration\n",
      "\n",
      "Dear Hiring Manager,\n",
      "\n",
      "I came across the Data Scientist position at your esteemed organization and was impressed by the role's focus on designing and implementing practical machine learning solutions. As a Business Development Executive at AtliQ, I'd like to introduce our company as a potential partner in fulfilling your data science needs.\n",
      "\n",
      "AtliQ is an AI & Software Consulting company dedicated to facilitating the seamless integration of business processes through automated tools. Our team of experts has empowered numerous enterprises with tailored solutions, fostering scalability, process optimization, cost reduction, and heightened overall efficiency.\n",
      "\n",
      "Our expertise in machine learning, deep learning, and statistical analysis aligns perfectly with the requirements of the Data Scientist role. We have a proven track record of delivering high-quality solutions using Python, common ML libraries (e.g., scikit-learn, pandas, numpy, PyTorch), and container technologies like Docker.\n",
      "\n",
      "I'd like to draw your attention to some of our notable projects that demonstrate our capabilities in machine learning and Python:\n",
      "\n",
      "* https://example.com/ml-python-portfolio\n",
      "* https://example.com/python-portfolio\n",
      "\n",
      "These projects showcase our ability to design and implement practical machine learning solutions that address real-world problems and deliver significant value to our clients.\n",
      "\n",
      "We believe that our expertise and experience make us an ideal partner for your organization. We'd be delighted to discuss how we can collaborate to simplify accounting processes for your customers and drive business growth.\n",
      "\n",
      "Please feel free to contact me to schedule a call to explore this opportunity further.\n",
      "\n",
      "Best regards,\n",
      "\n",
      "Mohan\n",
      "Business Development Executive\n",
      "AtliQ\n"
     ]
    }
   ],
   "source": [
    "prompt_email = PromptTemplate.from_template(\n",
    "        \"\"\"\n",
    "        ### JOB DESCRIPTION:\n",
    "        {job_description}\n",
    "        \n",
    "        ### INSTRUCTION:\n",
    "        You are Mohan, a business development executive at AtliQ. AtliQ is an AI & Software Consulting company dedicated to facilitating\n",
    "        the seamless integration of business processes through automated tools. \n",
    "        Over our experience, we have empowered numerous enterprises with tailored solutions, fostering scalability, \n",
    "        process optimization, cost reduction, and heightened overall efficiency. \n",
    "        Your job is to write a cold email to the client regarding the job mentioned above describing the capability of AtliQ \n",
    "        in fulfilling their needs.\n",
    "        Also add the most relevant ones from the following links to showcase Atliq's portfolio: {link_list}\n",
    "        Remember you are Mohan, BDE at AtliQ. \n",
    "        Do not provide a preamble.\n",
    "        ### EMAIL (NO PREAMBLE):\n",
    "        \n",
    "        \"\"\"\n",
    "        )\n",
    "\n",
    "chain_email = prompt_email | llm\n",
    "res = chain_email.invoke({\"job_description\": str(job), \"link_list\": links})\n",
    "print(res.content)"
   ]
  },
  {
   "cell_type": "code",
   "execution_count": null,
   "id": "625bd80c",
   "metadata": {},
   "outputs": [],
   "source": []
  }
 ],
 "metadata": {
  "kernelspec": {
   "display_name": "Python 3",
   "language": "python",
   "name": "python3"
  },
  "language_info": {
   "codemirror_mode": {
    "name": "ipython",
    "version": 3
   },
   "file_extension": ".py",
   "mimetype": "text/x-python",
   "name": "python",
   "nbconvert_exporter": "python",
   "pygments_lexer": "ipython3",
   "version": "3.9.7"
  }
 },
 "nbformat": 4,
 "nbformat_minor": 5
}
